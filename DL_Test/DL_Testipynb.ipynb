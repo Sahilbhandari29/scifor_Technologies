{
  "nbformat": 4,
  "nbformat_minor": 0,
  "metadata": {
    "colab": {
      "provenance": []
    },
    "kernelspec": {
      "name": "python3",
      "display_name": "Python 3"
    },
    "language_info": {
      "name": "python"
    }
  },
  "cells": [
    {
      "cell_type": "code",
      "execution_count": 3,
      "metadata": {
        "colab": {
          "base_uri": "https://localhost:8080/",
          "height": 145
        },
        "id": "6ycMUskan8ek",
        "outputId": "569cc118-5583-431c-e770-b9d4964c6cda"
      },
      "outputs": [
        {
          "output_type": "stream",
          "name": "stdout",
          "text": [
            "Animal speaks\n",
            "Dog barks\n",
            "Cat meows\n",
            "Puppy plays\n"
          ]
        },
        {
          "output_type": "execute_result",
          "data": {
            "text/plain": [
              "'\\nAnimal is a base class.\\nDog inherits from Animal, demonstrating single inheritance.\\nCat is another class.\\nDogCat inherits from both Dog and Cat, showcasing multiple inheritance.\\nPuppy inherits from Dog, which represents multilevel inheritance.\\nBabyPuppy inherits from Puppy, extending the multilevel inheritance.\\nHybridAnimal combines all three types of inheritance by inheriting from DogCat and BabyPuppy\\n'"
            ],
            "application/vnd.google.colaboratory.intrinsic+json": {
              "type": "string"
            }
          },
          "metadata": {},
          "execution_count": 3
        }
      ],
      "source": [
        "# Base class\n",
        "class Animal:\n",
        "    def speak(self):\n",
        "        print(\"Animal speaks\")\n",
        "\n",
        "# Single inheritance\n",
        "class Dog(Animal):\n",
        "    def bark(self):\n",
        "        print(\"Dog barks\")\n",
        "\n",
        "# Multiple inheritance\n",
        "class Cat:\n",
        "    def meow(self):\n",
        "        print(\"Cat meows\")\n",
        "\n",
        "class DogCat(Dog, Cat):\n",
        "    pass\n",
        "\n",
        "# Multilevel inheritance\n",
        "class Puppy(Dog):\n",
        "    def play(self):\n",
        "        print(\"Puppy plays\")\n",
        "\n",
        "class BabyPuppy(Puppy):\n",
        "    pass\n",
        "\n",
        "# Hybrid inheritance combining all three types\n",
        "class HybridAnimal(DogCat, BabyPuppy):\n",
        "    pass\n",
        "\n",
        "# Create an instance of HybridAnimal and demonstrate its functionality\n",
        "hybrid_animal = HybridAnimal()\n",
        "hybrid_animal.speak()  # Output: Animal speaks\n",
        "hybrid_animal.bark()   # Output: Dog barks\n",
        "hybrid_animal.meow()   # Output: Cat meows\n",
        "hybrid_animal.play()   # Output: Puppy plays\n",
        "\n",
        "'''\n",
        "Animal is a base class.\n",
        "Dog inherits from Animal, demonstrating single inheritance.\n",
        "Cat is another class.\n",
        "DogCat inherits from both Dog and Cat, showcasing multiple inheritance.\n",
        "Puppy inherits from Dog, which represents multilevel inheritance.\n",
        "BabyPuppy inherits from Puppy, extending the multilevel inheritance.\n",
        "HybridAnimal combines all three types of inheritance by inheriting from DogCat and BabyPuppy\n",
        "'''\n",
        "\n"
      ]
    }
  ]
}