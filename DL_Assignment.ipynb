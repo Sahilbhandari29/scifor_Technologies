{
  "nbformat": 4,
  "nbformat_minor": 0,
  "metadata": {
    "colab": {
      "provenance": [],
      "authorship_tag": "ABX9TyPOPX/96W0ilds6BplBKHnN",
      "include_colab_link": true
    },
    "kernelspec": {
      "name": "python3",
      "display_name": "Python 3"
    },
    "language_info": {
      "name": "python"
    }
  },
  "cells": [
    {
      "cell_type": "markdown",
      "metadata": {
        "id": "view-in-github",
        "colab_type": "text"
      },
      "source": [
        "<a href=\"https://colab.research.google.com/github/Sahilbhandari29/scifor_Technologies/blob/main/DL_Assignment.ipynb\" target=\"_parent\"><img src=\"https://colab.research.google.com/assets/colab-badge.svg\" alt=\"Open In Colab\"/></a>"
      ]
    },
    {
      "cell_type": "code",
      "execution_count": null,
      "metadata": {
        "id": "9allNtA5QMBL"
      },
      "outputs": [],
      "source": [
        "import numpy as np\n",
        "import tensorflow as tf\n",
        "from tensorflow.keras.layers import Dense, Flatten\n",
        "from tensorflow.keras import Sequential\n",
        "from tensorflow.keras.losses import categorical_crossentropy\n",
        "from keras.layers import Conv2D, MaxPooling2D\n",
        "from tensorflow.keras.activations import softmax, relu"
      ]
    },
    {
      "cell_type": "code",
      "source": [
        "from keras.datasets import cifar100 as cf100\n",
        "from keras.datasets import cifar10 as cf10"
      ],
      "metadata": {
        "id": "QPdzBMnhQVY3"
      },
      "execution_count": null,
      "outputs": []
    },
    {
      "cell_type": "code",
      "source": [
        "classes = 100\n",
        "(x_train, y_train) , (x_test, y_test) = cf100.load_data()\n",
        "print('x_train_dims : ' , x_train.shape)\n",
        "print('x_test_dims : ', x_test.shape)\n",
        "print('y_train_dims : ', y_train.shape)\n",
        "print('y_test_dims : ', y_test.shape)\n",
        "\n",
        "print( 'number of training examples available : ', x_train.shape[0])\n",
        "print('number of testing examples available : ', x_test.shape[0])\n",
        "\n",
        "y_train = tf.keras.utils.to_categorical(y_train, classes)\n",
        "y_test = tf.keras.utils.to_categorical(y_test, classes)\n",
        "\n",
        "x_train = x_train.astype('float32')\n",
        "x_test = x_test.astype('float32')\n",
        "\n",
        "x_train /= 255.0\n",
        "x_test /= 255.0"
      ],
      "metadata": {
        "colab": {
          "base_uri": "https://localhost:8080/"
        },
        "id": "TciZCooYQY78",
        "outputId": "0bf28d46-3fe7-4e78-83ee-17200caf2952"
      },
      "execution_count": null,
      "outputs": [
        {
          "output_type": "stream",
          "name": "stdout",
          "text": [
            "Downloading data from https://www.cs.toronto.edu/~kriz/cifar-100-python.tar.gz\n",
            "169001437/169001437 [==============================] - 11s 0us/step\n",
            "x_train_dims :  (50000, 32, 32, 3)\n",
            "x_test_dims :  (10000, 32, 32, 3)\n",
            "y_train_dims :  (50000, 1)\n",
            "y_test_dims :  (10000, 1)\n",
            "number of training examples available :  50000\n",
            "number of testing examples available :  10000\n"
          ]
        }
      ]
    },
    {
      "cell_type": "code",
      "source": [
        "model = Sequential()\n",
        "model.add(Conv2D(128, (3,3), activation='relu', input_shape=x_train.shape[1:], padding = 'same'))\n",
        "model.add(MaxPooling2D((2,2)))\n",
        "model.add(Conv2D(256, (3,3), activation='relu', padding = 'same'))\n",
        "model.add(MaxPooling2D((2,2)))\n",
        "model.add(Conv2D(512, (3,3), activation='relu', padding = 'same'))\n",
        "model.add(MaxPooling2D((3,3)))\n",
        "model.add(Flatten())\n",
        "model.add(Dense(1024, activation='relu', kernel_regularizer='l2'))\n",
        "model.add(Dense(classes, activation='softmax'))"
      ],
      "metadata": {
        "id": "THsIuQwPQnco"
      },
      "execution_count": null,
      "outputs": []
    },
    {
      "cell_type": "code",
      "source": [
        "model.summary()"
      ],
      "metadata": {
        "colab": {
          "base_uri": "https://localhost:8080/"
        },
        "id": "M2Qzs_f4Qskm",
        "outputId": "0439fe6b-62c3-49f7-9e38-59480f76d1b9"
      },
      "execution_count": null,
      "outputs": [
        {
          "output_type": "stream",
          "name": "stdout",
          "text": [
            "Model: \"sequential\"\n",
            "_________________________________________________________________\n",
            " Layer (type)                Output Shape              Param #   \n",
            "=================================================================\n",
            " conv2d (Conv2D)             (None, 32, 32, 128)       3584      \n",
            "                                                                 \n",
            " max_pooling2d (MaxPooling2  (None, 16, 16, 128)       0         \n",
            " D)                                                              \n",
            "                                                                 \n",
            " conv2d_1 (Conv2D)           (None, 16, 16, 256)       295168    \n",
            "                                                                 \n",
            " max_pooling2d_1 (MaxPoolin  (None, 8, 8, 256)         0         \n",
            " g2D)                                                            \n",
            "                                                                 \n",
            " conv2d_2 (Conv2D)           (None, 8, 8, 512)         1180160   \n",
            "                                                                 \n",
            " max_pooling2d_2 (MaxPoolin  (None, 2, 2, 512)         0         \n",
            " g2D)                                                            \n",
            "                                                                 \n",
            " flatten (Flatten)           (None, 2048)              0         \n",
            "                                                                 \n",
            " dense (Dense)               (None, 1024)              2098176   \n",
            "                                                                 \n",
            " dense_1 (Dense)             (None, 100)               102500    \n",
            "                                                                 \n",
            "=================================================================\n",
            "Total params: 3679588 (14.04 MB)\n",
            "Trainable params: 3679588 (14.04 MB)\n",
            "Non-trainable params: 0 (0.00 Byte)\n",
            "_________________________________________________________________\n"
          ]
        }
      ]
    },
    {
      "cell_type": "code",
      "source": [],
      "metadata": {
        "id": "IHN9bEhYRMOd"
      },
      "execution_count": null,
      "outputs": []
    },
    {
      "cell_type": "code",
      "source": [
        "from tensorflow.keras.metrics import Precision, Recall\n",
        "\n",
        "BATCH_SIZE = 32\n",
        "EPOCHS = 2\n",
        "\n",
        "METRICS = metrics=['accuracy',\n",
        "                   Precision(name='precision'),\n",
        "                   Recall(name='recall')]\n",
        "\n",
        "model.compile(optimizer='adam',\n",
        "              loss='categorical_crossentropy',\n",
        "              metrics = METRICS)\n",
        "\n",
        "# Train the model\n",
        "training_history = model.fit(x_train, y_train,\n",
        "                    epochs=EPOCHS, batch_size=BATCH_SIZE,\n",
        "                    validation_data=(x_test, y_test))"
      ],
      "metadata": {
        "colab": {
          "base_uri": "https://localhost:8080/"
        },
        "id": "G0pbZqNbQyzJ",
        "outputId": "60744a51-2b4f-4741-f2aa-3c40b6b23ae1"
      },
      "execution_count": null,
      "outputs": [
        {
          "output_type": "stream",
          "name": "stdout",
          "text": [
            "Epoch 1/2\n",
            "1563/1563 [==============================] - 1151s 735ms/step - loss: 4.1119 - accuracy: 0.0717 - precision: 0.4820 - recall: 0.0021 - val_loss: 3.6469 - val_accuracy: 0.1447 - val_precision: 0.4721 - val_recall: 0.0144\n",
            "Epoch 2/2\n",
            "1563/1563 [==============================] - 1168s 747ms/step - loss: 3.4745 - accuracy: 0.1891 - precision: 0.6457 - recall: 0.0296 - val_loss: 3.2902 - val_accuracy: 0.2275 - val_precision: 0.6328 - val_recall: 0.0498\n"
          ]
        }
      ]
    }
  ]
}